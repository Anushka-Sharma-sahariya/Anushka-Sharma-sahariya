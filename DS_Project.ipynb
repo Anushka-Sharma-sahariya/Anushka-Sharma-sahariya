{
  "nbformat": 4,
  "nbformat_minor": 0,
  "metadata": {
    "colab": {
      "provenance": [],
      "authorship_tag": "ABX9TyPgoz9wzvjwSeIDU2JCpJYY",
      "include_colab_link": true
    },
    "kernelspec": {
      "name": "python3",
      "display_name": "Python 3"
    },
    "language_info": {
      "name": "python"
    }
  },
  "cells": [
    {
      "cell_type": "markdown",
      "metadata": {
        "id": "view-in-github",
        "colab_type": "text"
      },
      "source": [
        "<a href=\"https://colab.research.google.com/github/Anushka-Sharma-sahariya/Anushka-Sharma-sahariya/blob/main/DS_Project.ipynb\" target=\"_parent\"><img src=\"https://colab.research.google.com/assets/colab-badge.svg\" alt=\"Open In Colab\"/></a>"
      ]
    },
    {
      "cell_type": "markdown",
      "source": [
        "**TEAM MEMBERS**: ANUSHKA SHARMA, MANI MEHENDIRATTA, KARAMRAJ SINGH ANAND, AISHWARYA"
      ],
      "metadata": {
        "id": "hun7BqSs0Bnh"
      }
    },
    {
      "cell_type": "markdown",
      "source": [
        "# ***DATA CLEANING AND PREPARING***\n",
        "\n",
        "---\n",
        "\n"
      ],
      "metadata": {
        "id": "JnXYkW_hb4DT"
      }
    },
    {
      "cell_type": "markdown",
      "source": [
        "**In the Code below, we have cleaned and prepared our dataset.**"
      ],
      "metadata": {
        "id": "wgGTNDp2hMBn"
      }
    },
    {
      "cell_type": "code",
      "execution_count": 19,
      "metadata": {
        "colab": {
          "base_uri": "https://localhost:8080/"
        },
        "id": "PMhU02LOb2X8",
        "outputId": "9d05d832-a6e0-4e32-a1d9-4db95975222b"
      },
      "outputs": [
        {
          "output_type": "stream",
          "name": "stdout",
          "text": [
            "     Gender  Age              Course Year_of_Study         CGPA  \\\n",
            "0    Female   18         Engineering        year 1  3.00 - 3.49   \n",
            "1      Male   21   Islamic education        year 2  3.00 - 3.49   \n",
            "2      Male   19                 BIT        Year 1  3.00 - 3.49   \n",
            "3    Female   22                Laws        year 3  3.00 - 3.49   \n",
            "4      Male   23        Mathemathics        year 4  3.00 - 3.49   \n",
            "..      ...  ...                 ...           ...          ...   \n",
            "96   Female   21                 BCS        year 1  3.50 - 4.00   \n",
            "97     Male   18         Engineering        Year 2  3.00 - 3.49   \n",
            "98   Female   19            Nursing         Year 3  3.50 - 4.00   \n",
            "99   Female   23    Pendidikan Islam        year 4  3.50 - 4.00   \n",
            "100    Male   20  Biomedical science        Year 2  3.00 - 3.49   \n",
            "\n",
            "    Marital_Status Depression Anxiety Panic_Attack Treatment  \n",
            "0               No        Yes      No          Yes        No  \n",
            "1               No         No     Yes           No        No  \n",
            "2               No        Yes     Yes          Yes        No  \n",
            "3              Yes        Yes      No           No        No  \n",
            "4               No         No      No           No        No  \n",
            "..             ...        ...     ...          ...       ...  \n",
            "96              No         No     Yes           No        No  \n",
            "97              No        Yes     Yes           No        No  \n",
            "98             Yes        Yes      No          Yes        No  \n",
            "99              No         No      No           No        No  \n",
            "100             No         No      No           No        No  \n",
            "\n",
            "[101 rows x 10 columns]\n"
          ]
        }
      ],
      "source": [
        "import pandas as pd\n",
        "\n",
        "df = pd.read_csv(\"/content/Student Mental health (1).csv\")\n",
        "\n",
        "# Checks for missing data\n",
        "missing_data = df.isnull().sum()\n",
        "\n",
        "# Handles missing data through imputation or removal\n",
        "# imputing missing values with the mean for numerical columns\n",
        "df['Age'].fillna(df['Age'].mean(), inplace=True)\n",
        "\n",
        "#Ensuring appropriate data types\n",
        "#converting Age to int\n",
        "df['Age'] = df['Age'].astype(int)\n",
        "\n",
        "\n",
        "# Saved the cleaned dataset to a new CSV file\n",
        "df.to_csv(\"cleaned_dataset.csv\", index=False)\n",
        "\n",
        "print(df)\n"
      ]
    },
    {
      "cell_type": "markdown",
      "source": [
        "**Defined new column names for our clarity and readability**"
      ],
      "metadata": {
        "id": "RgWGaQkihnDC"
      }
    },
    {
      "cell_type": "code",
      "source": [
        "# Defining a dictionary to map the long column names to the shorter names\n",
        "new_column_names = {\n",
        "    'Timestamp': 'Gender',\n",
        "    'Choose your gender': 'Gender',\n",
        "    'Age': 'Age',\n",
        "    'What is your course?': 'Course',\n",
        "    'Your current year of Study': 'Year_of_Study',\n",
        "    'What is your CGPA?': 'CGPA',\n",
        "    'Marital status': 'Marital_Status',\n",
        "    'Do you have Depression?': 'Depression',\n",
        "    'Do you have Anxiety?': 'Anxiety',\n",
        "    'Do you have Panic attack?': 'Panic_Attack',\n",
        "    'Did you seek any specialist for a treatment?': 'Treatment'\n",
        "}\n",
        "\n",
        "# Using the rename method to rename the columns\n",
        "df = df.rename(columns=new_column_names)\n",
        "print(df)"
      ],
      "metadata": {
        "colab": {
          "base_uri": "https://localhost:8080/"
        },
        "id": "PrIK155Nhj_X",
        "outputId": "c2753964-84be-4ded-d91d-94a10637902f"
      },
      "execution_count": 27,
      "outputs": [
        {
          "output_type": "stream",
          "name": "stdout",
          "text": [
            "     Gender  Age              Course Year_of_Study         CGPA  \\\n",
            "0    Female   18         Engineering        year 1  3.00 - 3.49   \n",
            "1      Male   21   Islamic education        year 2  3.00 - 3.49   \n",
            "2      Male   19                 BIT        Year 1  3.00 - 3.49   \n",
            "3    Female   22                Laws        year 3  3.00 - 3.49   \n",
            "4      Male   23        Mathemathics        year 4  3.00 - 3.49   \n",
            "..      ...  ...                 ...           ...          ...   \n",
            "96   Female   21                 BCS        year 1  3.50 - 4.00   \n",
            "97     Male   18         Engineering        Year 2  3.00 - 3.49   \n",
            "98   Female   19            Nursing         Year 3  3.50 - 4.00   \n",
            "99   Female   23    Pendidikan Islam        year 4  3.50 - 4.00   \n",
            "100    Male   20  Biomedical science        Year 2  3.00 - 3.49   \n",
            "\n",
            "    Marital_Status Depression Anxiety Panic_Attack Treatment  \n",
            "0               No        Yes      No          Yes        No  \n",
            "1               No         No     Yes           No        No  \n",
            "2               No        Yes     Yes          Yes        No  \n",
            "3              Yes        Yes      No           No        No  \n",
            "4               No         No      No           No        No  \n",
            "..             ...        ...     ...          ...       ...  \n",
            "96              No         No     Yes           No        No  \n",
            "97              No        Yes     Yes           No        No  \n",
            "98             Yes        Yes      No          Yes        No  \n",
            "99              No         No      No           No        No  \n",
            "100             No         No      No           No        No  \n",
            "\n",
            "[101 rows x 10 columns]\n"
          ]
        }
      ]
    },
    {
      "cell_type": "markdown",
      "source": [
        "**Checking for Outliers in CGPA of the Students**"
      ],
      "metadata": {
        "id": "N0SRmsWrjthZ"
      }
    },
    {
      "cell_type": "code",
      "source": [
        "import matplotlib.pyplot as plt\n",
        "\n",
        "plt.figure(figsize=(8, 6))\n",
        "plt.boxplot(df['CGPA'], vert=False)\n",
        "plt.title('CGPA Box Plot')\n",
        "plt.xlabel('CGPA')\n",
        "plt.show()\n"
      ],
      "metadata": {
        "colab": {
          "base_uri": "https://localhost:8080/",
          "height": 564
        },
        "id": "JrZRzu1RiyDA",
        "outputId": "d03850cf-c8f8-42c2-a02b-6f97e2998c05"
      },
      "execution_count": 31,
      "outputs": [
        {
          "output_type": "display_data",
          "data": {
            "text/plain": [
              "<Figure size 800x600 with 1 Axes>"
            ],
            "image/png": "[encoded data removed]"
          },
          "metadata": {}
        }
      ]
    },
    {
      "cell_type": "markdown",
      "source": [
        "# ***DATA EXPLORING***"
      ],
      "metadata": {
        "id": "e7Eq-2yJk1HF"
      }
    },
    {
      "cell_type": "markdown",
      "source": [
        "### *** Mean, median, standard deviation, and data distribution and visualising the data***"
      ],
      "metadata": {
        "id": "wQkqZQYbk6lo"
      }
    },
    {
      "cell_type": "code",
      "source": [
        "import pandas as pd\n",
        "import matplotlib.pyplot as plt\n",
        "import seaborn as sns\n",
        "\n",
        "\n",
        "\n",
        "# Converting the 'CGPA' column to numeric by taking the average of the range\n",
        "df['CGPA'] = df['CGPA'].apply(lambda x: (float(x.split('-')[0].strip()) + float(x.split('-')[1].strip())) / 2)\n",
        "\n",
        "# Calculating the mean, median, and standard deviation of the 'CGPA' column\n",
        "mean_cgpa = df['CGPA'].mean()\n",
        "median_cgpa = df['CGPA'].median()\n",
        "std_cgpa = df['CGPA'].std()\n",
        "\n",
        "print(\"Mean CGPA:\", mean_cgpa)\n",
        "print(\"Median CGPA:\", median_cgpa)\n",
        "print(\"Standard Deviation of CGPA:\", std_cgpa)\n",
        "\n",
        "# Analyzing the data distribution of 'CGPA' using histograms\n",
        "plt.figure(figsize=(12, 6))\n",
        "plt.subplot(1, 2, 1)\n",
        "sns.histplot(df['CGPA'], bins=10, kde=True)\n",
        "plt.title(\"CGPA Distribution\")\n",
        "\n",
        "# Creating a box plot to visualize the spread of 'CGPA'\n",
        "plt.subplot(1, 2, 2)\n",
        "sns.boxplot(data=df, x='CGPA')\n",
        "plt.title(\"CGPA Box Plot\")\n",
        "\n",
        "# Display the plots\n",
        "plt.show()\n"
      ],
      "metadata": {
        "colab": {
          "base_uri": "https://localhost:8080/",
          "height": 468
        },
        "id": "NmyORHGXk5_T",
        "outputId": "bb65803f-77c4-42af-f937-0f39bc5dd56a"
      },
      "execution_count": 29,
      "outputs": [
        {
          "output_type": "stream",
          "name": "stdout",
          "text": [
            "Mean CGPA: 3.3562871287128715\n",
            "Median CGPA: 3.245\n",
            "Standard Deviation of CGPA: 0.5851523961607551\n"
          ]
        },
        {
          "output_type": "display_data",
          "data": {
            "text/plain": [
              "<Figure size 1200x600 with 2 Axes>"
            ],
            "image/png": "[encoded data removed]"
          },
          "metadata": {}
        }
      ]
    }
  ]
}